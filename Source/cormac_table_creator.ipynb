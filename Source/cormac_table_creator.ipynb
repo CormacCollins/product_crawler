{
 "cells": [
  {
   "cell_type": "code",
   "execution_count": 1,
   "metadata": {},
   "outputs": [
    {
     "data": {
      "text/plain": [
       "632"
      ]
     },
     "execution_count": 1,
     "metadata": {},
     "output_type": "execute_result"
    }
   ],
   "source": [
    "import pandas as pd\n",
    "import numpy as np\n",
    "from Abbott_lookup import ab_lookup \n",
    "from product_info_JSON import PRODUCT_INFORMATION\n",
    "\n",
    "# ---------------------------- End of Lookup Table work ---------------------------------\n",
    "\n",
    "# Create the Abbott product table\n",
    "\n",
    "Abbot_products_original = pd.read_csv(\"../Data/Abbott/Abbott_scrape_data.csv\",  usecols=PRODUCT_INFORMATION.keys()) #This could be replaced with output from other parser\n",
    "Abbot_products = Abbot_products_original.copy() #to be used by future analysis\n",
    "Abbot_products.drop_duplicates(keep='first', inplace=True)\n",
    "len(Abbot_products)"
   ]
  },
  {
   "cell_type": "code",
   "execution_count": 2,
   "metadata": {},
   "outputs": [],
   "source": [
    "# just used to explore the unique values in the columns so I could make the XML file with all the look up values\n",
    "\n",
    "import math\n",
    "import re\n",
    "from collections.abc import Iterable\n",
    "vals = Abbot_products['size_or_weight'].str.split(' ') #extract(r'([a-zA-Z]+)')\n",
    "s = ''\n",
    "for i in vals:\n",
    "    if isinstance(i, Iterable):\n",
    "        s += ' '.join(i)\n",
    "s = s.split(' ')\n",
    "s = set(s)\n"
   ]
  },
  {
   "cell_type": "code",
   "execution_count": 3,
   "metadata": {},
   "outputs": [
    {
     "ename": "TypeError",
     "evalue": "element indices must be integers",
     "output_type": "error",
     "traceback": [
      "\u001b[1;31m---------------------------------------------------------------------------\u001b[0m",
      "\u001b[1;31mTypeError\u001b[0m                                 Traceback (most recent call last)",
      "\u001b[1;32m<ipython-input-3-8972f27458f0>\u001b[0m in \u001b[0;36m<module>\u001b[1;34m\u001b[0m\n\u001b[0;32m      9\u001b[0m \u001b[0mmeasure_list\u001b[0m\u001b[1;33m\u001b[0m\u001b[1;33m\u001b[0m\u001b[0m\n\u001b[0;32m     10\u001b[0m \u001b[0mbulk_form_list\u001b[0m \u001b[1;33m=\u001b[0m \u001b[1;33m[\u001b[0m\u001b[0mi\u001b[0m\u001b[1;33m.\u001b[0m\u001b[0mtext\u001b[0m \u001b[1;32mfor\u001b[0m \u001b[0mi\u001b[0m \u001b[1;32min\u001b[0m \u001b[0mroot\u001b[0m\u001b[1;33m[\u001b[0m\u001b[1;36m2\u001b[0m\u001b[1;33m]\u001b[0m\u001b[1;33m]\u001b[0m\u001b[1;33m\u001b[0m\u001b[1;33m\u001b[0m\u001b[0m\n\u001b[1;32m---> 11\u001b[1;33m \u001b[0mprint\u001b[0m\u001b[1;33m(\u001b[0m\u001b[0mroot\u001b[0m\u001b[1;33m[\u001b[0m\u001b[1;34m'product_format'\u001b[0m\u001b[1;33m]\u001b[0m\u001b[1;33m)\u001b[0m\u001b[1;33m\u001b[0m\u001b[1;33m\u001b[0m\u001b[0m\n\u001b[0m",
      "\u001b[1;31mTypeError\u001b[0m: element indices must be integers"
     ]
    }
   ],
   "source": [
    "#import each look up list - will be used to clean the data in next cell\n",
    "\n",
    "import xml.etree.ElementTree as ET\n",
    "#get all types and all measurements\n",
    "root = ET.parse('../Data/Abbott/Abbott_product_types_lookup.xml').getroot()\n",
    "types_list = [i.text for i in root[0]]\n",
    "types_list\n",
    "measure_list = [i.text for i in root[1]]\n",
    "measure_list\n",
    "bulk_form_list = [i.text for i in root[2]]\n",
    "print(root['product_format'])"
   ]
  },
  {
   "cell_type": "code",
   "execution_count": null,
   "metadata": {},
   "outputs": [],
   "source": [
    "#extract value from list that is found in another list\n",
    "def exists_in_list(l, val):\n",
    "    for i in val:\n",
    "        if i in l:\n",
    "            return i\n",
    "    return None\n",
    "\n",
    "\n",
    "a = Abbot_products['size_or_weight']\n",
    "split_data = list()\n",
    "#splits by '/'\n",
    "for i in a:\n",
    "    s = ' '.join(str(i).split())\n",
    "    new_tuple = s.split('/')\n",
    "    split_data.append(new_tuple)\n",
    "    \n",
    " "
   ]
  },
  {
   "cell_type": "code",
   "execution_count": null,
   "metadata": {},
   "outputs": [],
   "source": [
    "    \n",
    "lhs = list()\n",
    "rhs = list()\n",
    "\n",
    "#lhs to have weight metrics, type and weight number\n",
    "#Rhs will have bulk sales availablility\n",
    "for i in split_data:\n",
    "    if len(i) == 2:\n",
    "        rhs.append(i[1])\n",
    "        lhs.append(i[0])\n",
    "    else:\n",
    "        lhs.append(i[0])\n",
    "        rhs.append('')\n",
    "\n",
    "wt_metric = list()\n",
    "pr_type = list()\n",
    "wt = list()\n",
    "bulk_sales_type = list()\n",
    "bulk_sales_nums = list()\n",
    "\n",
    "#will create all the same length lists but with their specific values\n",
    "for i in lhs:\n",
    "    v = exists_in_list(i, measure_list)\n",
    "    wt_metric.append(v)\n",
    "    v = exists_in_list(i, types_list)\n",
    "    pr_type.append(v)\n",
    "    d = i.split(' ')\n",
    "    prod_wt_num = [el for el in d if bool(re.search(r'\\d', el))]\n",
    "    \n",
    "    if prod_wt_num:\n",
    "        wt.append(prod_wt_num[0])\n",
    "    else:\n",
    "        wt.append('')\n",
    "\n",
    "\n",
    "for i in rhs:\n",
    "    v = exists_in_list(i, bulk_form_list)\n",
    "    bulk_sales_type.append(v)\n",
    "    d = i.split(' ')\n",
    "    prod_wt_num = [el for el in d if bool(re.search(r'\\d', el))]\n",
    "    \n",
    "    if prod_wt_num:\n",
    "        bulk_sales_nums.append(prod_wt_num[0])\n",
    "    else:\n",
    "        bulk_sales_nums.append('')\n",
    "\n",
    "    \n"
   ]
  },
  {
   "cell_type": "code",
   "execution_count": null,
   "metadata": {},
   "outputs": [],
   "source": [
    "Abbot_products.head()"
   ]
  },
  {
   "cell_type": "code",
   "execution_count": null,
   "metadata": {},
   "outputs": [],
   "source": []
  },
  {
   "cell_type": "code",
   "execution_count": null,
   "metadata": {},
   "outputs": [],
   "source": [
    "\n",
    "can_numbers_1 = Abbot_products['Case of X'].str.extract('(\\d+)')\n",
    "can_numbers_2 = Abbot_products['Case of Y'].str.extract('(\\d+)')\n",
    "can_numbers = can_numbers_1 + ', ' + can_numbers_2\n",
    "can_numbers = can_numbers.values.tolist()\n",
    "#Abbot_products['product_type_counts'] = can_numbers\n",
    "for i in range(0, len(can_numbers)):\n",
    "    #print(can_numbers[i][0])\n",
    "    if isinstance(can_numbers[i][0], str):\n",
    "        bulk_sales_nums[i] = can_numbers[i][0]\n",
    "        bulk_sales_type[i] = 'can'\n",
    "        #print(can_numbers[i])\n"
   ]
  },
  {
   "cell_type": "code",
   "execution_count": null,
   "metadata": {},
   "outputs": [],
   "source": [
    "Abbot_products['product_format'] = pr_type\n",
    "Abbot_products['product_measurement_metric'] = wt_metric\n",
    "Abbot_products['product_measurement_numeric'] = wt\n",
    "Abbot_products['bulk_sales_type'] = bulk_sales_type\n",
    "Abbot_products['bulk_sales_numeric'] = bulk_sales_nums\n"
   ]
  },
  {
   "cell_type": "code",
   "execution_count": null,
   "metadata": {},
   "outputs": [],
   "source": [
    "\n",
    "Abbot_products.head()"
   ]
  },
  {
   "cell_type": "code",
   "execution_count": null,
   "metadata": {},
   "outputs": [],
   "source": [
    "# ------------- Setup dataframe and columns -----------------\n",
    "\n",
    "del_cols = ['size_or_weight', 'benefits', 'clinical_indications', 'feature_table_rows', 'usage', 'Case of X', 'Case of Y',\n",
    "           'Flavours', 'size_or_weight', 'availability', 'Sizes', 'footnotes', 'ingredients']\n",
    "\n",
    "for c in del_cols:\n",
    "    if c in Abbot_products.columns:\n",
    "        del Abbot_products[c]\n",
    "    "
   ]
  },
  {
   "cell_type": "code",
   "execution_count": null,
   "metadata": {},
   "outputs": [],
   "source": [
    "Abbot_products.head()"
   ]
  },
  {
   "cell_type": "code",
   "execution_count": null,
   "metadata": {},
   "outputs": [],
   "source": [
    "Abbot_products['serving_size_1'] = Abbot_products['serving_size_1'].str.replace('Serving Size:', '')\n",
    "Abbot_products['serving_size_1'] = Abbot_products['serving_size_1'].str.split('(', expand=True)[0]\n",
    "Abbot_products['serving_size_1'] = Abbot_products['serving_size_1'].str.strip()\n",
    "df = Abbot_products['serving_size_1'].str.split(' ', expand=True)\n",
    "\n",
    "Abbot_products['serving_size_metric'] = df[1]\n",
    "Abbot_products['serving_size_numeric'] = df[0]\n",
    "\n"
   ]
  },
  {
   "cell_type": "code",
   "execution_count": null,
   "metadata": {},
   "outputs": [],
   "source": [
    "del_cols = list()\n",
    "\n",
    "for i in range(1, 4):\n",
    "    del_cols.append('serving_size_' + str(i))\n",
    "    del_cols.append('nutrient_table_' + str(i))\n",
    "    del_cols.append('vitamin_table_' + str(i))\n",
    "    del_cols.append('mineral_table_' + str(i))\n",
    "    \n",
    "for c in del_cols:\n",
    "    if c in Abbot_products.columns:\n",
    "        del Abbot_products[c]\n",
    "\n"
   ]
  },
  {
   "cell_type": "code",
   "execution_count": null,
   "metadata": {},
   "outputs": [],
   "source": [
    "Abbot_products.head()"
   ]
  },
  {
   "cell_type": "code",
   "execution_count": null,
   "metadata": {},
   "outputs": [],
   "source": [
    "\n",
    "# Send to CSV\n",
    "Abbot_products.to_csv(\"../Data/Abbott/Abbot_products.csv\")\n"
   ]
  },
  {
   "cell_type": "code",
   "execution_count": 46,
   "metadata": {},
   "outputs": [
    {
     "ename": "TypeError",
     "evalue": "parser_f() got an unexpected keyword argument 'columns'",
     "output_type": "error",
     "traceback": [
      "\u001b[1;31m---------------------------------------------------------------------------\u001b[0m",
      "\u001b[1;31mTypeError\u001b[0m                                 Traceback (most recent call last)",
      "\u001b[1;32m<ipython-input-46-c6b7ae01e679>\u001b[0m in \u001b[0;36m<module>\u001b[1;34m\u001b[0m\n\u001b[0;32m      7\u001b[0m     \u001b[0mp\u001b[0m \u001b[1;33m=\u001b[0m \u001b[1;34m\"../Data/Abbott/Vitamin_tables/vitamin_table_ \"\u001b[0m \u001b[1;33m+\u001b[0m \u001b[1;34m'66441e'\u001b[0m \u001b[1;33m+\u001b[0m \u001b[1;34m\".csv\"\u001b[0m\u001b[1;33m\u001b[0m\u001b[1;33m\u001b[0m\u001b[0m\n\u001b[0;32m      8\u001b[0m     \u001b[1;32mif\u001b[0m \u001b[0mos\u001b[0m\u001b[1;33m.\u001b[0m\u001b[0mpath\u001b[0m\u001b[1;33m.\u001b[0m\u001b[0mexists\u001b[0m\u001b[1;33m(\u001b[0m\u001b[0mp\u001b[0m\u001b[1;33m)\u001b[0m\u001b[1;33m:\u001b[0m\u001b[1;33m\u001b[0m\u001b[1;33m\u001b[0m\u001b[0m\n\u001b[1;32m----> 9\u001b[1;33m         \u001b[0mvit_table\u001b[0m \u001b[1;33m=\u001b[0m \u001b[0mpd\u001b[0m\u001b[1;33m.\u001b[0m\u001b[0mread_csv\u001b[0m\u001b[1;33m(\u001b[0m\u001b[0mp\u001b[0m\u001b[1;33m,\u001b[0m \u001b[0mcolumns\u001b[0m\u001b[1;33m=\u001b[0m\u001b[1;33m[\u001b[0m\u001b[1;34m'vit'\u001b[0m\u001b[1;33m,\u001b[0m \u001b[1;34m'amount'\u001b[0m\u001b[1;33m,\u001b[0m \u001b[1;34m'per serving'\u001b[0m\u001b[1;33m]\u001b[0m\u001b[1;33m)\u001b[0m\u001b[1;33m\u001b[0m\u001b[1;33m\u001b[0m\u001b[0m\n\u001b[0m\u001b[0;32m     10\u001b[0m         \u001b[0mprint\u001b[0m\u001b[1;33m(\u001b[0m\u001b[0mvit_table\u001b[0m\u001b[1;33m)\u001b[0m\u001b[1;33m\u001b[0m\u001b[1;33m\u001b[0m\u001b[0m\n\u001b[0;32m     11\u001b[0m         \u001b[0mvit_table\u001b[0m\u001b[1;33m.\u001b[0m\u001b[0mto_csv\u001b[0m\u001b[1;33m(\u001b[0m\u001b[0mp\u001b[0m\u001b[1;33m,\u001b[0m \u001b[0mindex\u001b[0m\u001b[1;33m=\u001b[0m\u001b[1;32mFalse\u001b[0m\u001b[1;33m)\u001b[0m\u001b[1;33m\u001b[0m\u001b[1;33m\u001b[0m\u001b[0m\n",
      "\u001b[1;31mTypeError\u001b[0m: parser_f() got an unexpected keyword argument 'columns'"
     ]
    }
   ],
   "source": [
    "#edit all tables, adding extra columns\n",
    "import os.path\n",
    "\n",
    "\n",
    "for prod in Abbot_products['item_id'].str.replace('#:', '').tolist():\n",
    "    #print(Abbot_products[Abbot_products['item_id'] == prod].values)\n",
    "    p = \"../Data/Abbott/Vitamin_tables/vitamin_table_ \" + '66441e' + \".csv\"\n",
    "    if os.path.exists(p):\n",
    "        vit_table = pd.read_csv(p)\n",
    "        vit_table.to_csv(p, index=False)\n",
    "        #vit_table.drop(vit_table.columns[[0]],axis=1,inplace=True)\n",
    "        print(vit_table)\n",
    "        #vit_table['vitamin'] =  ''\n",
    "        #vit_table['unit'] = ''\n",
    "        #print(vit_table['Unnamed: 0'])\n",
    "        #vit_table[['vitamin', 'unit']] =  vit_table['Unnamed: 0'].astype(str).str.split(',')\n",
    "        #print(vit_table['Unnamed: 0'].astype(str).str.split(','))\n",
    "        \n",
    "        break"
   ]
  },
  {
   "cell_type": "code",
   "execution_count": 11,
   "metadata": {},
   "outputs": [
    {
     "name": "stdout",
     "output_type": "stream",
     "text": [
      "    Unnamed: 0                        Unnamed: 0.1  Amount per serving  \\\n",
      "0            0                 Vitamin E, IU : 1.5                1.50   \n",
      "1            1                  Vitamin K, mcg : 8                8.00   \n",
      "2            2     Thiamin (Vitamin B1), mcg : 100              100.00   \n",
      "3            3  Riboflavin (Vitamin B2), mcg : 160              160.00   \n",
      "4            4                Vitamin B6, mcg : 63               63.00   \n",
      "5            5             Vitamin B12, mcg : 0.26                0.26   \n",
      "6            6                  Niacin, mcg : 1100             1100.00   \n",
      "7            7      Folic Acid (Folacin), mcg : 16               16.00   \n",
      "8            8         Pantothenic Acid, mcg : 470              470.00   \n",
      "9            9                   Biotin, mcg : 4.6                4.60   \n",
      "10          10   Vitamin C (Ascorbic Acid), mg : 9                9.00   \n",
      "11          11                    Choline, mg : 24               24.00   \n",
      "12          12                  Inositol, mg : 4.5                4.50   \n",
      "13          13                 Vitamin A, IU : 300              300.00   \n",
      "14          14                  Vitamin D, IU : 60               60.00   \n",
      "\n",
      "    % Daily Value*  \n",
      "0              NaN  \n",
      "1              NaN  \n",
      "2              NaN  \n",
      "3              NaN  \n",
      "4              NaN  \n",
      "5              NaN  \n",
      "6              NaN  \n",
      "7              NaN  \n",
      "8              NaN  \n",
      "9              NaN  \n",
      "10             NaN  \n",
      "11             NaN  \n",
      "12             NaN  \n",
      "13             NaN  \n",
      "14             NaN  \n"
     ]
    }
   ],
   "source": [
    "#ONCE SCRAPPER FIXED NEED TO RE-SCRAPE FOR TESTING THIS:\n",
    "\n",
    "\n",
    "\n",
    "        \n",
    "        #vit_table[cond][['vitamin','unit']] = (vit_table[cond]['Unnamed: 0'].str.split(',', expand=True))\n",
    "        #d = vit_table.iloc[0].str.split(',')\n",
    "        #del vit_table['Unnamed: 0']\n",
    "        #vit_table.to_csv(\"../Data/Abbott/Vitamin_tables/vitamin_table_\" + prod + \".csv\")\n",
    "    '''\n",
    "    p = \"../Data/Abbott/Nutrition_tables/nutrient_table_\" + prod + \".csv\"\n",
    "    if os.path.exists(p):\n",
    "        \n",
    "        nutr_table = pd.read_csv(\"../Data/Abbott/Nutrition_tables/nutrient_table_\" + prod + \".csv\")\n",
    "        nutr_table\n",
    "\n",
    "        nutr_table['nutrient'] = len(nutr_table)*''\n",
    "        nutr_table['metric'] = len(nutr_table)*''\n",
    "\n",
    "        nutr_table[['nutrient','metric']] = (nutr_table['Unnamed: 0'].str.split(',', expand=True))\n",
    "        del nutr_table['Unnamed: 0']\n",
    "        nutr_table.to_csv(\"../Data/Abbott/Nutrition_tables/vitamin_table_\" + prod + \".csv\")\n",
    "\n",
    "    p = \"../Data/Abbott/Mineral_tables/mineral_table_\" + prod + \".csv\"\n",
    "    if os.path.exists(p):\n",
    "        min_table = pd.read_csv(\"../Data/Abbott/Mineral_tables/mineral_table_\" + prod + \".csv\")\n",
    "        print(min_table)\n",
    "        \n",
    "        min_table['mineral'] = len(min_table)*''\n",
    "        min_table['metric'] = len(min_table)*''\n",
    "        \n",
    "        min_table[['mineral','metric']] = (min_table['Unnamed: 0'].str.split(',', expand=True))\n",
    "        del min_table['Unnamed: 0']\n",
    "        min_table.to_csv(\"../Data/Abbott/Mineral_tables/mineral_table_\" + prod + \".csv\")\n",
    "    '''\n",
    "\n"
   ]
  },
  {
   "cell_type": "code",
   "execution_count": 13,
   "metadata": {},
   "outputs": [],
   "source": [
    "# -------------------------------------------\n",
    "\n",
    "# Set up table which shows all the ingredients for products vertically for analytics\n",
    "Abbot_products_ingredients_item_type = Abbot_products_original\n",
    "\n",
    "# Changed from Name to SKU ID \"item_type\"\n",
    "Abbot_products_ingredients_item_type = Abbot_products_ingredients_item_type[pd.notnull(Abbot_products_ingredients_item_type['item_id'])]\n",
    "Abbot_products_ingredients = Abbot_products_ingredients_item_type[['item_id','ingredients']]\n",
    "Abbot_products_name = Abbot_products_ingredients_item_type['item_id']\n",
    "Abbot_main_ingredients = pd.concat([Abbot_products_name,\n",
    "                                    Abbot_products_ingredients['ingredients'].str.split(', ', expand=True)], axis=1)\n",
    "Abbot_main_ingredients = pd.melt(Abbot_main_ingredients, id_vars = [\"item_id\"])\n",
    "Abbot_main_ingredients.dropna(inplace=True)\n",
    "Abbot_main_ingredients = Abbot_main_ingredients[(Abbot_main_ingredients['value'] != 0)]\n",
    "\n",
    "Abbot_main_ingredients.rename(columns={'value' : 'ingredient'},inplace=True)\n",
    "del Abbot_main_ingredients['variable']\n",
    "Abbot_main_ingredients.head()\n",
    "Abbot_main_ingredients.sort_values('item_id', inplace=True, ascending=True)\n",
    "Abbot_main_ingredients.drop_duplicates(keep='first', inplace=True)\n",
    "Abbot_main_ingredients\n",
    "\n",
    "\n",
    "# Remove white space and \"AND\" \n",
    "Abbot_main_ingredients.ingredient = Abbot_main_ingredients.ingredient.str.strip()\n",
    "Abbot_main_ingredients['ingredient'] = Abbot_main_ingredients['ingredient'].str.replace(\"and \", \"\", regex=False)\n",
    "Abbot_main_ingredients['ingredient'] = Abbot_main_ingredients['ingredient'].str.replace(\".\", \"\", regex=False)\n",
    "\n",
    "# Send to CSV\n",
    "Abbot_main_ingredients.to_csv(\"../Data/Abbott/ingredients.csv\")"
   ]
  },
  {
   "cell_type": "code",
   "execution_count": 15,
   "metadata": {},
   "outputs": [],
   "source": [
    "\n",
    "# -----------\n",
    "\n",
    "# Set up table which shows all the flavours for products vertically for analytics\n",
    "# Changed name to SKU \"item_type\"\n",
    "\n",
    "Abbot_product_flavours_item_type = Abbot_products_original\n",
    " #This could be replaced with output from other parser\n",
    "    \n",
    "Abbot_product_flavours_item_type = Abbot_product_flavours_item_type[pd.notnull(Abbot_product_flavours_item_type['item_id'])]\n",
    "Abbot_products_name = Abbot_product_flavours_item_type['item_id']\n",
    "Abbot_product_flavours = Abbot_product_flavours_item_type[['item_id','Flavours']]\n",
    "Abbot_product_flavours = pd.concat([Abbot_products_name,\n",
    "                                    Abbot_product_flavours['Flavours'].str.split(', ', expand=True)], axis=1)\n",
    "\n",
    "\n",
    "Abbot_product_flavours = pd.melt(Abbot_product_flavours, id_vars = [\"item_id\"])\n",
    "Abbot_product_flavours['value'] = Abbot_product_flavours['value'].astype(str)\n",
    "\n",
    "Abbot_product_flavours['value'] = Abbot_product_flavours['value'].str.replace(\"]\", \"\", regex=False)\n",
    "Abbot_product_flavours['value'] = Abbot_product_flavours['value'].str.replace(\"[\", \"\", regex = False)\n",
    "Abbot_product_flavours['value'] = Abbot_product_flavours['value'].str.replace(\"'\", \"\", regex=False)\n",
    "Abbot_product_flavours.dropna(inplace=True)\n",
    "Abbot_product_flavours = Abbot_product_flavours[(Abbot_product_flavours['value'] != 0)]\n",
    "del Abbot_product_flavours['variable']\n",
    "Abbot_product_flavours.rename(columns={'value' : 'Flavours'},inplace=True)\n",
    "\n",
    "Abbot_product_flavours.sort_values('item_id', inplace=True, ascending=True)\n",
    "Abbot_product_flavours.drop_duplicates(keep='first', inplace=True)\n",
    "Abbot_product_flavours\n",
    "\n",
    "Abbot_product_flavours.to_csv(\"../Data/Abbott/flavours.csv\")\n"
   ]
  }
 ],
 "metadata": {
  "kernelspec": {
   "display_name": "Python 3",
   "language": "python",
   "name": "python3"
  },
  "language_info": {
   "codemirror_mode": {
    "name": "ipython",
    "version": 3
   },
   "file_extension": ".py",
   "mimetype": "text/x-python",
   "name": "python",
   "nbconvert_exporter": "python",
   "pygments_lexer": "ipython3",
   "version": "3.7.4"
  }
 },
 "nbformat": 4,
 "nbformat_minor": 4
}
